{
 "cells": [
  {
   "cell_type": "code",
   "execution_count": 7,
   "metadata": {},
   "outputs": [],
   "source": [
    "class Dog:\n",
    "    \n",
    "    def __init__(self,name,breed):\n",
    "        \n",
    "        self.name = name\n",
    "        self.breed = breed\n",
    "        \n",
    "    def print_details(self):\n",
    "        \n",
    "        print('My name is %s and I am a %s' % (self.name,self.breed))"
   ]
  },
  {
   "cell_type": "code",
   "execution_count": 8,
   "metadata": {},
   "outputs": [
    {
     "name": "stdout",
     "output_type": "stream",
     "text": [
      "My name is oba and I am a Labrador\n"
     ]
    }
   ],
   "source": [
    "d1 = Dog('oba','Labrador')\n",
    "d1.print_details()"
   ]
  },
  {
   "cell_type": "code",
   "execution_count": 9,
   "metadata": {},
   "outputs": [
    {
     "name": "stdout",
     "output_type": "stream",
     "text": [
      "My name is Nemo and I am a Labrador\n"
     ]
    }
   ],
   "source": [
    "d1.name = 'Nemo' \n",
    "d1.print_details()  # Class and Instance Variables are accessible from outside of the class. Hence they are public"
   ]
  },
  {
   "cell_type": "code",
   "execution_count": 10,
   "metadata": {},
   "outputs": [
    {
     "name": "stdout",
     "output_type": "stream",
     "text": [
      "My name is Nemo and I am a Golden Retreiver\n"
     ]
    }
   ],
   "source": [
    "d1.breed = \"Golden Retreiver\"\n",
    "d1.print_details()"
   ]
  },
  {
   "cell_type": "code",
   "execution_count": 11,
   "metadata": {},
   "outputs": [
    {
     "data": {
      "text/plain": [
       "mappingproxy({'__module__': '__main__',\n",
       "              '__init__': <function __main__.Dog.__init__(self, name, breed)>,\n",
       "              'print_details': <function __main__.Dog.print_details(self)>,\n",
       "              '__dict__': <attribute '__dict__' of 'Dog' objects>,\n",
       "              '__weakref__': <attribute '__weakref__' of 'Dog' objects>,\n",
       "              '__doc__': None})"
      ]
     },
     "execution_count": 11,
     "metadata": {},
     "output_type": "execute_result"
    }
   ],
   "source": [
    "Dog.__dict__"
   ]
  },
  {
   "cell_type": "code",
   "execution_count": 12,
   "metadata": {},
   "outputs": [
    {
     "data": {
      "text/plain": [
       "{'name': 'Nemo', 'breed': 'Golden Retreiver'}"
      ]
     },
     "execution_count": 12,
     "metadata": {},
     "output_type": "execute_result"
    }
   ],
   "source": [
    "d1.__dict__"
   ]
  },
  {
   "cell_type": "code",
   "execution_count": null,
   "metadata": {},
   "outputs": [],
   "source": []
  }
 ],
 "metadata": {
  "kernelspec": {
   "display_name": "Python 3",
   "language": "python",
   "name": "python3"
  },
  "language_info": {
   "codemirror_mode": {
    "name": "ipython",
    "version": 3
   },
   "file_extension": ".py",
   "mimetype": "text/x-python",
   "name": "python",
   "nbconvert_exporter": "python",
   "pygments_lexer": "ipython3",
   "version": "3.7.4"
  }
 },
 "nbformat": 4,
 "nbformat_minor": 2
}
